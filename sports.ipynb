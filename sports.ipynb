{
 "cells": [
  {
   "cell_type": "code",
   "execution_count": 5,
   "id": "71f3f084-e238-4f78-bf99-b402abf38ec3",
   "metadata": {},
   "outputs": [
    {
     "name": "stdin",
     "output_type": "stream",
     "text": [
      "What is your favorite sport to play Boxing\n",
      "Is Boxing a team sport? (y/n) n\n"
     ]
    },
    {
     "name": "stdout",
     "output_type": "stream",
     "text": [
      "I really like Boxing\n"
     ]
    }
   ],
   "source": [
    "sport = input('What is your favorite sport to play')\n",
    "team_or_single = input(f'Is {sport} a team sport? (y/n)')\n",
    "\n",
    "if team_or_single == 'y':\n",
    "    position = input('What position do you play')\n",
    "    print(f'You play as a {position} in {sport}.')\n",
    "else:\n",
    "    print(f'I really like {sport}')"
   ]
  },
  {
   "cell_type": "code",
   "execution_count": null,
   "id": "70564b4c-c34c-43c0-a19b-be901a5c7ae6",
   "metadata": {},
   "outputs": [],
   "source": []
  }
 ],
 "metadata": {
  "kernelspec": {
   "display_name": "Python 3 (ipykernel)",
   "language": "python",
   "name": "python3"
  },
  "language_info": {
   "codemirror_mode": {
    "name": "ipython",
    "version": 3
   },
   "file_extension": ".py",
   "mimetype": "text/x-python",
   "name": "python",
   "nbconvert_exporter": "python",
   "pygments_lexer": "ipython3",
   "version": "3.11.13"
  }
 },
 "nbformat": 4,
 "nbformat_minor": 5
}
