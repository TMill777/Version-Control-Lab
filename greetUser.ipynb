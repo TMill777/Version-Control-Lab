{
 "cells": [
  {
   "cell_type": "code",
   "execution_count": 2,
   "id": "337fff01-ce8d-4149-864b-b546701a54a5",
   "metadata": {},
   "outputs": [
    {
     "name": "stdin",
     "output_type": "stream",
     "text": [
      "What is your name? j\n",
      "How old are you? 6\n"
     ]
    },
    {
     "name": "stdout",
     "output_type": "stream",
     "text": [
      "j  is  6  years old!!\n"
     ]
    }
   ],
   "source": [
    "name = input(\"What is your name?\")\n",
    "age = input(\"How old are you?\")\n",
    "\n",
    "greet = print(name, \" is \", age, \" years old!!\")"
   ]
  },
  {
   "cell_type": "code",
   "execution_count": null,
   "id": "c5ee5b5a-883b-412e-a7a6-6c80701c46b9",
   "metadata": {},
   "outputs": [],
   "source": []
  }
 ],
 "metadata": {
  "kernelspec": {
   "display_name": "Python 3 (ipykernel)",
   "language": "python",
   "name": "python3"
  },
  "language_info": {
   "codemirror_mode": {
    "name": "ipython",
    "version": 3
   },
   "file_extension": ".py",
   "mimetype": "text/x-python",
   "name": "python",
   "nbconvert_exporter": "python",
   "pygments_lexer": "ipython3",
   "version": "3.11.13"
  }
 },
 "nbformat": 4,
 "nbformat_minor": 5
}
